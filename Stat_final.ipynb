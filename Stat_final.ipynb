{
  "nbformat": 4,
  "nbformat_minor": 0,
  "metadata": {
    "colab": {
      "name": "Stat final.ipynb",
      "provenance": [],
      "authorship_tag": "ABX9TyNKDbgDcjs5nJgxI1fq/aoG",
      "include_colab_link": true
    },
    "kernelspec": {
      "name": "python3",
      "display_name": "Python 3"
    },
    "language_info": {
      "name": "python"
    }
  },
  "cells": [
    {
      "cell_type": "markdown",
      "metadata": {
        "id": "view-in-github",
        "colab_type": "text"
      },
      "source": [
        "<a href=\"https://colab.research.google.com/github/amp1415/HHA-507-Streamlit/blob/main/Stat_final.ipynb\" target=\"_parent\"><img src=\"https://colab.research.google.com/assets/colab-badge.svg\" alt=\"Open In Colab\"/></a>"
      ]
    },
    {
      "cell_type": "markdown",
      "source": [
        "##IMPORT PACKAGES"
      ],
      "metadata": {
        "id": "PZXO9WKghTih"
      }
    },
    {
      "cell_type": "code",
      "execution_count": null,
      "metadata": {
        "id": "9mwP6MhYg86S"
      },
      "outputs": [],
      "source": [
        "import pandas as pd \n",
        "!pip install sweetviz\n",
        "!pip install pyjanitor \n",
        "from janitor import clean_names, remove_empty \n",
        "import matplotlib.pyplot as plt\n",
        "import seaborn as sns\n",
        "import os\n",
        "import glob"
      ]
    },
    {
      "cell_type": "code",
      "source": [
        "from pandas_profiling import ProfileReport"
      ],
      "metadata": {
        "id": "nrojkjDohTKO"
      },
      "execution_count": null,
      "outputs": []
    },
    {
      "cell_type": "markdown",
      "source": [
        "###LOADING FILES"
      ],
      "metadata": {
        "id": "Gws3KP5aiP3V"
      }
    },
    {
      "cell_type": "code",
      "source": [
        "hospitaldf = pd.read_csv('https://raw.githubusercontent.com/hantswilliams/AHI_DataSci_507/main/Deployment_Streamlit/hospital_info.csv')\n"
      ],
      "metadata": {
        "id": "SraNx-sPiTel"
      },
      "execution_count": null,
      "outputs": []
    },
    {
      "cell_type": "code",
      "source": [
        "hospitaldf"
      ],
      "metadata": {
        "id": "u470LF4ugY6f"
      },
      "execution_count": null,
      "outputs": []
    },
    {
      "cell_type": "code",
      "source": [
        "outpatientdf = pd.read_csv('https://raw.githubusercontent.com/hantswilliams/AHI_DataSci_507/main/Deployment_Streamlit/outpatient_2015.csv')\n",
        "outpatientdf"
      ],
      "metadata": {
        "id": "6aqqN9gKgdFa"
      },
      "execution_count": null,
      "outputs": []
    },
    {
      "cell_type": "code",
      "source": [
        "inpatientdf = pd.read_csv('https://raw.githubusercontent.com/hantswilliams/AHI_DataSci_507/main/Deployment_Streamlit/inpatient_2015.csv')\n",
        "inpatientdf"
      ],
      "metadata": {
        "id": "REpnMLbtg2T_"
      },
      "execution_count": null,
      "outputs": []
    },
    {
      "cell_type": "markdown",
      "source": [
        "FIND SIZE BY LENGTH BY ROW (SMALL TO BIG)\n",
        "\n",
        "\n"
      ],
      "metadata": {
        "id": "wwIQ9y9Bh7f2"
      }
    },
    {
      "cell_type": "code",
      "source": [
        "print ('hospital_info:' , len(hospitaldf))"
      ],
      "metadata": {
        "colab": {
          "base_uri": "https://localhost:8080/"
        },
        "id": "qwOXO0Mkhbvv",
        "outputId": "58981cf6-068e-4836-e9bf-5dc5c567e56f"
      },
      "execution_count": null,
      "outputs": [
        {
          "output_type": "stream",
          "name": "stdout",
          "text": [
            "hospital_info: 5314\n"
          ]
        }
      ]
    },
    {
      "cell_type": "code",
      "source": [
        "print ('outpatient_info:' , len(outpatientdf))"
      ],
      "metadata": {
        "colab": {
          "base_uri": "https://localhost:8080/"
        },
        "id": "HA4YF3CKixec",
        "outputId": "6da9d693-3297-4f40-8c0c-c546214ffae7"
      },
      "execution_count": null,
      "outputs": [
        {
          "output_type": "stream",
          "name": "stdout",
          "text": [
            "outpatient_info: 32532\n"
          ]
        }
      ]
    },
    {
      "cell_type": "code",
      "source": [
        "print ('inpatient_info:' , len(inpatientdf))"
      ],
      "metadata": {
        "colab": {
          "base_uri": "https://localhost:8080/"
        },
        "id": "JXIeZk3Ni_A8",
        "outputId": "6d8e98d0-8eb1-4305-da59-b0906433e7d8"
      },
      "execution_count": null,
      "outputs": [
        {
          "output_type": "stream",
          "name": "stdout",
          "text": [
            "inpatient_info: 201876\n"
          ]
        }
      ]
    },
    {
      "cell_type": "markdown",
      "source": [
        "EXPLORING EACH DATASET"
      ],
      "metadata": {
        "id": "VoWT1AFZjPsS"
      }
    },
    {
      "cell_type": "code",
      "source": [
        "list (hospitaldf)"
      ],
      "metadata": {
        "id": "U4h1Wt0mjO72"
      },
      "execution_count": null,
      "outputs": []
    },
    {
      "cell_type": "code",
      "source": [
        "list (outpatientdf)"
      ],
      "metadata": {
        "colab": {
          "base_uri": "https://localhost:8080/"
        },
        "id": "QpN5ARwwkM_v",
        "outputId": "3d0affa9-facb-426b-e78c-e101f78df382"
      },
      "execution_count": null,
      "outputs": [
        {
          "output_type": "execute_result",
          "data": {
            "text/plain": [
              "['provider_id',\n",
              " 'provider_name',\n",
              " 'provider_street_address',\n",
              " 'provider_city',\n",
              " 'provider_state',\n",
              " 'provider_zipcode',\n",
              " 'apc',\n",
              " 'hospital_referral_region',\n",
              " 'outpatient_services',\n",
              " 'average_estimated_submitted_charges',\n",
              " 'average_total_payments']"
            ]
          },
          "metadata": {},
          "execution_count": 41
        }
      ]
    },
    {
      "cell_type": "code",
      "source": [
        "list (inpatientdf)"
      ],
      "metadata": {
        "colab": {
          "base_uri": "https://localhost:8080/"
        },
        "id": "fGoIGHlWkQYd",
        "outputId": "8467cf49-a4a0-4b2f-ead1-12ad424bf874"
      },
      "execution_count": null,
      "outputs": [
        {
          "output_type": "execute_result",
          "data": {
            "text/plain": [
              "['provider_id',\n",
              " 'provider_name',\n",
              " 'provider_street_address',\n",
              " 'provider_city',\n",
              " 'provider_state',\n",
              " 'provider_zipcode',\n",
              " 'drg_definition',\n",
              " 'hospital_referral_region_description',\n",
              " 'total_discharges',\n",
              " 'average_covered_charges',\n",
              " 'average_total_payments',\n",
              " 'average_medicare_payments']"
            ]
          },
          "metadata": {},
          "execution_count": 42
        }
      ]
    },
    {
      "cell_type": "markdown",
      "source": [
        "Data Cleaning and Merge Prep"
      ],
      "metadata": {
        "id": "s4vy3WsX17pR"
      }
    },
    {
      "cell_type": "code",
      "source": [
        "outpatientdf2 = outpatientdf.dropna()\n",
        "outpatientdf2.sample(20)"
      ],
      "metadata": {
        "id": "quisqdO42Ake"
      },
      "execution_count": null,
      "outputs": []
    },
    {
      "cell_type": "code",
      "source": [
        "inpatientdf2 = inpatientdf.dropna()\n",
        "inpatientdf2.sample(20)"
      ],
      "metadata": {
        "id": "mAoUlijR2eWJ"
      },
      "execution_count": null,
      "outputs": []
    },
    {
      "cell_type": "code",
      "source": [
        "newhospitaldf1 = hospitaldf[hospitaldf['hospital_overall_rating'].notna()] \n",
        "newhospitaldf1['hospital_overall_rating'].isna().sum()\n",
        "newhospitaldf2 = hospitaldf[hospitaldf['readmission_national_comparison'].notna()]\n",
        "newhospitaldf2['readmission_national_comparison'].isna().sum()\n",
        "0\n",
        "newhospitaldf3 = hospitaldf[hospitaldf['patient_experience_national_comparison'].notna()] \n",
        "newhospitaldf3['patient_experience_national_comparison'].isna().sum()\n",
        "0\n",
        "newhospitaldf4 = hospitaldf[hospitaldf['efficient_use_of_medical_imaging_national_comparison'].notna()] \n",
        "newhospitaldf4['efficient_use_of_medical_imaging_national_comparison'].isna().sum()"
      ],
      "metadata": {
        "id": "jMSeqt82-u8T"
      },
      "execution_count": null,
      "outputs": []
    },
    {
      "cell_type": "markdown",
      "source": [
        "Need to make 1 whole df for hosptial data"
      ],
      "metadata": {
        "id": "_ul7XSy3_EtM"
      }
    },
    {
      "cell_type": "code",
      "source": [
        "hospital_merged1 = pd.concat([newhospitaldf1,newhospitaldf2])\n",
        "hospital_merged1.sample(20)"
      ],
      "metadata": {
        "id": "igBPkAqo--V7"
      },
      "execution_count": null,
      "outputs": []
    },
    {
      "cell_type": "code",
      "source": [
        "hospital_merged2 = pd.concat([newhospitaldf3,newhospitaldf4])\n",
        "hospital_merged2.sample(20)"
      ],
      "metadata": {
        "id": "8-MGNC7D_MNo"
      },
      "execution_count": null,
      "outputs": []
    },
    {
      "cell_type": "code",
      "source": [
        "final_hospital = pd.concat([hospital_merged1,hospital_merged2])\n",
        "final_hospital.sample(20)"
      ],
      "metadata": {
        "id": "jm-0a6XE_RC9"
      },
      "execution_count": null,
      "outputs": []
    },
    {
      "cell_type": "markdown",
      "source": [
        "Merge!"
      ],
      "metadata": {
        "id": "6mATA4mi_TDj"
      }
    },
    {
      "cell_type": "code",
      "source": [
        "outpatientdf2['provider_id'] = outpatientdf['provider_id'].astype(str)\n",
        "inpatientdf2['provider_id'] = inpatientdf['provider_id'].astype(str)\n",
        "final_hospital['provider_id'] = hospitaldf['provider_id'].astype(str)"
      ],
      "metadata": {
        "id": "kY9uuiVo_UdQ"
      },
      "execution_count": null,
      "outputs": []
    },
    {
      "cell_type": "code",
      "source": [
        "inpatient_hospital = inpatientdf2.merge(final_hospital, how = 'left', left_on='provider_id', right_on='provider_id')\n",
        "inpatient_hospital.sample(20)"
      ],
      "metadata": {
        "id": "hUbqOHWQBnpO"
      },
      "execution_count": null,
      "outputs": []
    },
    {
      "cell_type": "markdown",
      "source": [
        "Looking into SBU"
      ],
      "metadata": {
        "id": "EktkmwiICxQA"
      }
    },
    {
      "cell_type": "code",
      "source": [
        "SBU= hospitaldf[hospitaldf['hospital_name'] == 'SUNY/STONY BROOK UNIVERSITY HOSPITAL']\n",
        "SBU"
      ],
      "metadata": {
        "colab": {
          "base_uri": "https://localhost:8080/",
          "height": 153
        },
        "id": "zfChTVjkC7VN",
        "outputId": "62f8fcbe-3506-4531-daa5-584fa7b1bcd0"
      },
      "execution_count": null,
      "outputs": [
        {
          "output_type": "execute_result",
          "data": {
            "text/html": [
              "<div>\n",
              "<style scoped>\n",
              "    .dataframe tbody tr th:only-of-type {\n",
              "        vertical-align: middle;\n",
              "    }\n",
              "\n",
              "    .dataframe tbody tr th {\n",
              "        vertical-align: top;\n",
              "    }\n",
              "\n",
              "    .dataframe thead th {\n",
              "        text-align: right;\n",
              "    }\n",
              "</style>\n",
              "<table border=\"1\" class=\"dataframe\">\n",
              "  <thead>\n",
              "    <tr style=\"text-align: right;\">\n",
              "      <th></th>\n",
              "      <th>provider_id</th>\n",
              "      <th>hospital_name</th>\n",
              "      <th>address</th>\n",
              "      <th>city</th>\n",
              "      <th>state</th>\n",
              "      <th>zip_code</th>\n",
              "      <th>county_name</th>\n",
              "      <th>phone_number</th>\n",
              "      <th>hospital_type</th>\n",
              "      <th>hospital_ownership</th>\n",
              "      <th>emergency_services</th>\n",
              "      <th>meets_criteria_for_meaningful_use_of_ehrs</th>\n",
              "      <th>hospital_overall_rating</th>\n",
              "      <th>hospital_overall_rating_footnote</th>\n",
              "      <th>mortality_national_comparison</th>\n",
              "      <th>mortality_national_comparison_footnote</th>\n",
              "      <th>safety_of_care_national_comparison</th>\n",
              "      <th>safety_of_care_national_comparison_footnote</th>\n",
              "      <th>readmission_national_comparison</th>\n",
              "      <th>readmission_national_comparison_footnote</th>\n",
              "      <th>patient_experience_national_comparison</th>\n",
              "      <th>patient_experience_national_comparison_footnote</th>\n",
              "      <th>effectiveness_of_care_national_comparison</th>\n",
              "      <th>effectiveness_of_care_national_comparison_footnote</th>\n",
              "      <th>timeliness_of_care_national_comparison</th>\n",
              "      <th>timeliness_of_care_national_comparison_footnote</th>\n",
              "      <th>efficient_use_of_medical_imaging_national_comparison</th>\n",
              "      <th>efficient_use_of_medical_imaging_national_comparison_footnote</th>\n",
              "      <th>location</th>\n",
              "    </tr>\n",
              "  </thead>\n",
              "  <tbody>\n",
              "    <tr>\n",
              "      <th>2139</th>\n",
              "      <td>330393</td>\n",
              "      <td>SUNY/STONY BROOK UNIVERSITY HOSPITAL</td>\n",
              "      <td>HEALTH SCIENCES CENTER SUNY</td>\n",
              "      <td>STONY BROOK</td>\n",
              "      <td>NY</td>\n",
              "      <td>11794</td>\n",
              "      <td>SUFFOLK</td>\n",
              "      <td>(631) 444-4000</td>\n",
              "      <td>Acute Care Hospitals</td>\n",
              "      <td>Government - State</td>\n",
              "      <td>True</td>\n",
              "      <td>True</td>\n",
              "      <td>4</td>\n",
              "      <td>NaN</td>\n",
              "      <td>Above the national average</td>\n",
              "      <td>NaN</td>\n",
              "      <td>Above the national average</td>\n",
              "      <td>NaN</td>\n",
              "      <td>Below the national average</td>\n",
              "      <td>NaN</td>\n",
              "      <td>Below the national average</td>\n",
              "      <td>NaN</td>\n",
              "      <td>Same as the national average</td>\n",
              "      <td>NaN</td>\n",
              "      <td>Below the national average</td>\n",
              "      <td>NaN</td>\n",
              "      <td>Same as the national average</td>\n",
              "      <td>NaN</td>\n",
              "      <td>NaN</td>\n",
              "    </tr>\n",
              "  </tbody>\n",
              "</table>\n",
              "</div>"
            ],
            "text/plain": [
              "     provider_id  ... location\n",
              "2139      330393  ...      NaN\n",
              "\n",
              "[1 rows x 29 columns]"
            ]
          },
          "metadata": {},
          "execution_count": 43
        }
      ]
    },
    {
      "cell_type": "code",
      "source": [
        "sbu_in = inpatientdf[inpatientdf['provider_id'] == 330393]\n",
        "sbu_in"
      ],
      "metadata": {
        "id": "cHAzc5cXEDnm"
      },
      "execution_count": null,
      "outputs": []
    },
    {
      "cell_type": "code",
      "source": [
        "sbu_out = outpatientdf[outpatientdf['provider_id'] == 330393]\n",
        "sbu_out"
      ],
      "metadata": {
        "id": "cx0BEno3EVrI"
      },
      "execution_count": null,
      "outputs": []
    },
    {
      "cell_type": "code",
      "source": [
        "NY_info = hospitaldf[hospitaldf['state'] == 'NY']\n",
        "NY_info.sample(15)"
      ],
      "metadata": {
        "id": "kBu2cfzAFbRf"
      },
      "execution_count": null,
      "outputs": []
    },
    {
      "cell_type": "code",
      "source": [
        "NY_inpatient = inpatientdf[inpatientdf['provider_state'] == 'NY']\n",
        "NY_inpatient.sample(15)"
      ],
      "metadata": {
        "id": "DmoSPz-gGbwR"
      },
      "execution_count": null,
      "outputs": []
    },
    {
      "cell_type": "code",
      "source": [
        "NY_outpatient = outpatientdf[outpatientdf['provider_state'] == 'NY']\n",
        "NY_outpatient.sample(15)"
      ],
      "metadata": {
        "id": "M2KvkN_VGknd"
      },
      "execution_count": null,
      "outputs": []
    }
  ]
}